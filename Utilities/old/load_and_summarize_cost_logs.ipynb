{
 "cells": [
  {
   "cell_type": "code",
   "execution_count": 1,
   "metadata": {},
   "outputs": [],
   "source": [
    "import numpy as np\n",
    "from glob import glob\n",
    "import os"
   ]
  },
  {
   "cell_type": "code",
   "execution_count": 15,
   "metadata": {},
   "outputs": [],
   "source": [
    "path_to_folder = \"/Users/frederik/Library/CloudStorage/GoogleDrive-frederik.heetmeyer@gmail.com/.shortcut-targets-by-id/1cYZ58RodZZAcEunzgvTyvmOq6jPD09iS/NC/RPGD paper ICRA/Videos/Gym Simulations/ControlGym Simulation Cost Logs\"\n",
    "path_to_folder += \"/Dubins Car/CEM/\""
   ]
  },
  {
   "cell_type": "code",
   "execution_count": 16,
   "metadata": {},
   "outputs": [],
   "source": [
    "list_of_paths = glob(f\"{path_to_folder}/*realized_cost_logged*.npy\")"
   ]
  },
  {
   "cell_type": "code",
   "execution_count": 19,
   "metadata": {},
   "outputs": [],
   "source": [
    "costs = []\n",
    "for path in list_of_paths:\n",
    "    all_costs: np.ndarray = np.load(path)\n",
    "    costs.append(all_costs.mean())\n",
    "    "
   ]
  },
  {
   "cell_type": "code",
   "execution_count": 20,
   "metadata": {},
   "outputs": [],
   "source": [
    "np.save(f\"{path_to_folder}summary.npy\", np.array(costs))"
   ]
  },
  {
   "cell_type": "code",
   "execution_count": null,
   "metadata": {},
   "outputs": [],
   "source": []
  }
 ],
 "metadata": {
  "kernelspec": {
   "display_name": ".env",
   "language": "python",
   "name": "python3"
  },
  "language_info": {
   "codemirror_mode": {
    "name": "ipython",
    "version": 3
   },
   "file_extension": ".py",
   "mimetype": "text/x-python",
   "name": "python",
   "nbconvert_exporter": "python",
   "pygments_lexer": "ipython3",
   "version": "3.9.7 (v3.9.7:1016ef3790, Aug 30 2021, 16:39:15) \n[Clang 6.0 (clang-600.0.57)]"
  },
  "orig_nbformat": 4,
  "vscode": {
   "interpreter": {
    "hash": "3278091a9c51c515580ce9323870bcc1c566a355c978109865ebf25870050fe3"
   }
  }
 },
 "nbformat": 4,
 "nbformat_minor": 2
}
