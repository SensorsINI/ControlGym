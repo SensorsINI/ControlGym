{
 "cells": [
  {
   "cell_type": "markdown",
   "metadata": {},
   "source": [
    "Save a scatter plot which compares the effect of a hyperparameter on the distribution of realized control rewards.\n",
    "\n",
    "This script assumes that the GUILD AI library was used to generate the results.\n",
    "\n",
    "You specify a list of hashes to compare.\n",
    "\n",
    "Each hash references a GUILD AI experiment with e.g. 100 randomized episodes.\n",
    "\n",
    "The randomized episodes have different initialization and seeds, so that you can be sure the effect of a hyperparameter you get is not a random outlier.\n",
    "\n",
    "Typically, all the runs in your list used the same hyperparameters, except one that was varied.\n",
    "\n",
    "You then have to manually define the name of the parameter and the values you gave it. (This is not extracted automatically).\n",
    "\n",
    "The resulting plot has one row for each GUILD hash, so that e.g. 100 points in the row show the distribution of control rewards obtained during the 100 random episodes.\n",
    "\n",
    "On the horizontal axis, you see the scale of the rewards."
   ]
  },
  {
   "cell_type": "code",
   "execution_count": null,
   "metadata": {},
   "outputs": [],
   "source": [
    "import os\n",
    "import numpy as np\n",
    "import glob\n",
    "import pandas as pd\n",
    "\n",
    "%matplotlib widget\n",
    "import matplotlib.pyplot as plt\n",
    "plt.style.use([\"science\"])"
   ]
  },
  {
   "cell_type": "code",
   "execution_count": null,
   "metadata": {},
   "outputs": [],
   "source": [
    "if os.getcwd().split(os.sep)[-1].lower() != \"controlgym\": os.chdir(\"..\")\n",
    "print(f\"Set working directory to {os.getcwd()}\")"
   ]
  },
  {
   "attachments": {},
   "cell_type": "markdown",
   "metadata": {},
   "source": [
    "### List hyperparameter names and values"
   ]
  },
  {
   "cell_type": "code",
   "execution_count": null,
   "metadata": {},
   "outputs": [],
   "source": [
    "fig_title = r\"MPC Optimizer Comparison DubinsCar\"\n",
    "hp_name = r\"optimizer\"\n",
    "hp_values = [\"RPGD\", \"CEM\", \"CEM+Gradient Descent\", \"Gradient MPC\", \"MPPI\", \"Winner-Take-All\"][::-1]\n",
    "# # fig_title = r\"RPGD Sweep Population Size CartPoleSimulator\"\n",
    "# # hp_name = \"number of parallel rollouts (total / kept when resampling)\"\n",
    "# # hp_values = [\"1/1\",\"2/1\",\"4/1\",\"8/2\",\"16/4\",\"32/0\",\"32/8\",\"32/32\",\"64/16\",\"128/32\",\"256/64\",]\n",
    "# fig_title = r\"RPGD Sweep Resampling Interval CartPoleSimulator\"\n",
    "# hp_name = \"number of control iterations between resampling of input plans\"\n",
    "# hp_values = [1,5,10,20,50,200]\n",
    "# fig_title = r\"RPGD Sweep Gradient Steps Dubins Car\"\n",
    "# hp_name = \"gradient updates per control step\"\n",
    "# hp_values = [0,1,2,5,10,25,50,75,100,150]\n",
    "\n",
    "### List GUILD AI hashes of runs to plot\n",
    "GUILD_AI_HASHES = [\n",
    "    \"ea42e4a0\",\n",
    "    \"30dc41fb\",\n",
    "    \"93e932f9\",\n",
    "    \"904ff4d8\",\n",
    "    \"d3a3f510\",\n",
    "    \"f2cae2a6\",\n",
    "]\n",
    "\n",
    "### Make sure that \".env\" below is the path to your python virtual environment\n",
    "PATHS_TO_EXPERIMENTS = [os.path.join(\".env\", \".guild\", \"runs\", h) for h in GUILD_AI_HASHES]\n",
    "\n",
    "### Or specify paths manually, like so:\n",
    "# PATHS_TO_EXPERIMENTS = [\n",
    "#     \".env/.guild/runs/4c8c1726\",\n",
    "# ]"
   ]
  },
  {
   "attachments": {},
   "cell_type": "markdown",
   "metadata": {},
   "source": [
    "### Collect Rewards as Dataframe"
   ]
  },
  {
   "cell_type": "code",
   "execution_count": null,
   "metadata": {},
   "outputs": [],
   "source": [
    "num_experiments = len(PATHS_TO_EXPERIMENTS)\n",
    "all_rewards_data = []\n",
    "all_run_result_data = {\"timeout\": [], \"terminated\": [], \"truncated\": []}\n",
    "\n",
    "for path_to_experiment in PATHS_TO_EXPERIMENTS:\n",
    "    output_scalars_files = glob.glob(f\"{path_to_experiment}*{os.sep}Output{os.sep}**{os.sep}*output_scalars*.csv\", recursive=True)\n",
    "    assert len(output_scalars_files) == 1\n",
    "    \n",
    "    output_scalars_of_experiment = np.loadtxt(\n",
    "        output_scalars_files[0],\n",
    "        dtype=np.float32,\n",
    "        delimiter=\",\",\n",
    "        skiprows=1,\n",
    "    )\n",
    "    \n",
    "    rewards_of_experiment = output_scalars_of_experiment[:, 0]\n",
    "    all_run_result_data[\"timeout\"].append(output_scalars_of_experiment[:, 1])\n",
    "    all_run_result_data[\"terminated\"].append(output_scalars_of_experiment[:, 2])\n",
    "    all_run_result_data[\"truncated\"].append(output_scalars_of_experiment[:, 3])\n",
    "    all_rewards_data.append(rewards_of_experiment)\n",
    "    \n",
    "all_rewards_data = np.stack(all_rewards_data, axis=0)  # One row for each experiment\n",
    "all_run_result_data = {k: np.stack(v, axis=1) for k, v in all_run_result_data.items()}\n",
    "num_trials = all_rewards_data.shape[1]"
   ]
  },
  {
   "cell_type": "code",
   "execution_count": null,
   "metadata": {},
   "outputs": [],
   "source": [
    "{k: np.mean(v, axis=0) for k, v in all_run_result_data.items()}"
   ]
  },
  {
   "cell_type": "code",
   "execution_count": null,
   "metadata": {},
   "outputs": [],
   "source": [
    "[np.mean(a) for a in all_rewards_data]"
   ]
  },
  {
   "attachments": {},
   "cell_type": "markdown",
   "metadata": {},
   "source": [
    "### Plot Outputs"
   ]
  },
  {
   "attachments": {},
   "cell_type": "markdown",
   "metadata": {},
   "source": [
    "#### Horizontal Layout"
   ]
  },
  {
   "cell_type": "code",
   "execution_count": null,
   "metadata": {},
   "outputs": [],
   "source": [
    "plt.close(\"all\")\n",
    "fig, ax = plt.subplots(\n",
    "    figsize=(5.5, 2.5),\n",
    "    dpi=300.0,\n",
    ")\n",
    "\n",
    "for i in range(num_experiments):\n",
    "    scatter_x = np.repeat(i + 1, num_trials) + np.clip(0.07 * np.random.standard_normal(num_trials), -0.35, 0.35)\n",
    "    r = all_rewards_data[i, :]\n",
    "\n",
    "    ax.scatter(scatter_x, r, marker=\".\", c=\"b\", s=4)\n",
    "    ax.plot([i + 1 - 0.35, i + 1 + 0.35], [np.mean(r), np.mean(r)], c=\"r\", linewidth=0.75)\n",
    "\n",
    "ax.grid(visible=True, which=\"major\", axis=\"y\", lw=0.3)\n",
    "ax.set_xlabel(hp_name, fontsize=12)\n",
    "ax.set_ylabel(\"mean reward per episode\", fontsize=12)\n",
    "ax.set_xticks(np.arange(1, num_experiments + 1), labels=hp_values)\n",
    "ax.minorticks_off()\n",
    "# ax.set_title(fig_title, fontdict={\"fontsize\": 9}, pad=3.0)\n",
    "# ax.spines[['top', 'right']].set_visible(False)\n",
    "fig.tight_layout(pad=1.03)"
   ]
  },
  {
   "attachments": {},
   "cell_type": "markdown",
   "metadata": {},
   "source": [
    "#### Vertical Layout"
   ]
  },
  {
   "cell_type": "code",
   "execution_count": null,
   "metadata": {},
   "outputs": [],
   "source": [
    "plt.close(\"all\")\n",
    "fig, ax = plt.subplots(\n",
    "    figsize=(4, 3),\n",
    "    dpi=300.0,\n",
    ")\n",
    "\n",
    "all_x = []\n",
    "all_y = []\n",
    "\n",
    "for i in range(num_experiments):\n",
    "    scatter_y = np.repeat(i + 1, num_trials) + np.clip(0.07 * np.random.standard_normal(num_trials), -0.35, 0.35)\n",
    "    r = all_rewards_data[i, :]\n",
    "    \n",
    "    all_x.extend(list(r))\n",
    "    all_y.extend(list(scatter_y))\n",
    "\n",
    "    colors = [\"r\" if to or tr else \"g\" for to, tr in zip(all_run_result_data[\"timeout\"][:, i], all_run_result_data[\"truncated\"][:, i])]\n",
    "    ax.scatter(r, scatter_y, marker=\".\", c=colors, s=4)\n",
    "    ax.plot([np.mean(r), np.mean(r)], [i + 1 - 0.35, i + 1 + 0.35], c=\"b\", linewidth=0.75)\n",
    "\n",
    "ax.grid(visible=True, which=\"major\", axis=\"x\", lw=0.3)\n",
    "# ax.set_xlabel(\"mean reward per episode\", fontsize=8)\n",
    "# ax.set_ylabel(hp_name)\n",
    "# ax.set_yticks(np.arange(1, num_experiments + 1), labels=hp_values)\n",
    "ax.set_xticklabels([])\n",
    "ax.set_yticklabels([])\n",
    "# ax.set_title(fig_title, fontdict={\"fontsize\": 9}, pad=3.0)\n",
    "# ax.spines[['top', 'right']].set_visible(False)\n",
    "ax.minorticks_off()\n",
    "fig.tight_layout(pad=1.03)"
   ]
  },
  {
   "attachments": {},
   "cell_type": "markdown",
   "metadata": {},
   "source": [
    "## Saving"
   ]
  },
  {
   "cell_type": "code",
   "execution_count": null,
   "metadata": {},
   "outputs": [],
   "source": [
    "fig.savefig(os.path.join(fig_title + \"_\" + \"_\".join(GUILD_AI_HASHES) + \".pdf\"), bbox_inches=\"tight\", pad_inches=0.03)"
   ]
  },
  {
   "cell_type": "code",
   "execution_count": null,
   "metadata": {},
   "outputs": [],
   "source": [
    "savedir = os.path.join(\"Output\", \"cost_scatter_plots\")\n",
    "if not os.path.exists(savedir):\n",
    "    os.makedirs(savedir)"
   ]
  },
  {
   "attachments": {},
   "cell_type": "markdown",
   "metadata": {},
   "source": [
    "### Save Figure"
   ]
  },
  {
   "cell_type": "code",
   "execution_count": null,
   "metadata": {},
   "outputs": [],
   "source": [
    "fig.savefig(os.path.join(savedir, fig_title + \"_\" + \"_\".join(GUILD_AI_HASHES) + \".pdf\"), bbox_inches=\"tight\", pad_inches=0.03)"
   ]
  },
  {
   "attachments": {},
   "cell_type": "markdown",
   "metadata": {},
   "source": [
    "### Save data as .dat file"
   ]
  },
  {
   "cell_type": "code",
   "execution_count": null,
   "metadata": {},
   "outputs": [],
   "source": [
    "df = pd.DataFrame({\n",
    "    \"xcol\": all_x,\n",
    "    \"ycol\": all_y,\n",
    "    \"metacol\": all_x,\n",
    "})\n",
    "df.to_csv(os.path.join(savedir, fig_title + \"_\" + \"_\".join(GUILD_AI_HASHES) + \".dat\"), sep=\"\\t\", index=False)"
   ]
  }
 ],
 "metadata": {
  "kernelspec": {
   "display_name": ".env",
   "language": "python",
   "name": "python3"
  },
  "language_info": {
   "codemirror_mode": {
    "name": "ipython",
    "version": 3
   },
   "file_extension": ".py",
   "mimetype": "text/x-python",
   "name": "python",
   "nbconvert_exporter": "python",
   "pygments_lexer": "ipython3",
   "version": "3.9.7"
  },
  "orig_nbformat": 4,
  "vscode": {
   "interpreter": {
    "hash": "3278091a9c51c515580ce9323870bcc1c566a355c978109865ebf25870050fe3"
   }
  }
 },
 "nbformat": 4,
 "nbformat_minor": 2
}
